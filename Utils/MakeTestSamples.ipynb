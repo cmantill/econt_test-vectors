{
 "cells": [
  {
   "cell_type": "code",
   "execution_count": null,
   "metadata": {},
   "outputs": [],
   "source": [
    "import numpy as np\n",
    "import pandas as pd\n",
    "\n",
    "def hex32(x):\n",
    "    return format(x, '08x')\n",
    "hex32 = np.vectorize(hex32)\n"
   ]
  },
  {
   "cell_type": "code",
   "execution_count": null,
   "metadata": {},
   "outputs": [],
   "source": [
    "df = pd.DataFrame({**{\"BX\":np.arange(3564)},**{f'RX_DATA_{i}':np.zeros(3564,dtype=int) for i in range(12)}})\n",
    "\n",
    "for i in range(12):\n",
    "\n",
    "    # transmit link number and count\n",
    "#     df[f'RX_DATA_{i}'] = ((10<<28)+(i<<16) + df.BX).astype(int)\n",
    "\n",
    "#     #transmit 7 bit BX counter on all links \n",
    "#     x = ((df.BX)%128).values\n",
    "#     df[f'RX_DATA_{i}'] = ((10<<28)+(x<<21) + (x<<14) + (x<<7) + x).astype(int)\n",
    "\n",
    "    #transmit 7 bit BX counter on all links, but each counter is offset by 2 from previous TC\n",
    "    x0 = ((df.BX + 8*i)%128).values\n",
    "    x1 = ((df.BX + 8*i +2)%128).values\n",
    "    x2 = ((df.BX + 8*i +4)%128).values\n",
    "    x3 = ((df.BX + 8*i +6)%128).values\n",
    "    df[f'RX_DATA_{i}'] = ((10<<28)+(x0<<21) + (x1<<14) + (x2<<7) + x3).astype(int)\n",
    "\n",
    "#     #random TC data, from exponential\n",
    "#     x = np.random.exponential(10,3564*4).astype(int).reshape(3564,4)\n",
    "#     x[x>127]=127\n",
    "#     df[f'RX_DATA_{i}'] = ((10<<28)+(x[:,0]<<21) + (x[:,1]<<14) + (x[:,2]<<7) + x[:,3]).astype(int)\n",
    "    \n",
    "    \n",
    "df.drop('BX',axis=1,inplace=True)\n",
    "df.loc[0] = df.loc[0] - (1<<28)\n",
    "df[df.columns] = hex32(df)"
   ]
  },
  {
   "cell_type": "code",
   "execution_count": null,
   "metadata": {},
   "outputs": [],
   "source": [
    "df.to_csv('testInput.csv',index=False)"
   ]
  },
  {
   "cell_type": "code",
   "execution_count": null,
   "metadata": {},
   "outputs": [],
   "source": [
    "df"
   ]
  },
  {
   "cell_type": "code",
   "execution_count": null,
   "metadata": {},
   "outputs": [],
   "source": []
  }
 ],
 "metadata": {
  "kernelspec": {
   "display_name": "Python 3",
   "language": "python",
   "name": "python3"
  },
  "language_info": {
   "codemirror_mode": {
    "name": "ipython",
    "version": 3
   },
   "file_extension": ".py",
   "mimetype": "text/x-python",
   "name": "python",
   "nbconvert_exporter": "python",
   "pygments_lexer": "ipython3",
   "version": "3.7.5"
  }
 },
 "nbformat": 4,
 "nbformat_minor": 2
}
